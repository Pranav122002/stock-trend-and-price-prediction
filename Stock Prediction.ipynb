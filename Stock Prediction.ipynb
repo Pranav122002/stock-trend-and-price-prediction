{
 "cells": [
  {
   "cell_type": "code",
   "execution_count": 1,
   "metadata": {},
   "outputs": [],
   "source": [
    "import numpy as np \n",
    "import pandas as pd \n",
    "import matplotlib.pyplot as plt\n",
    "from pandas_datareader import data as pdr\n",
    "import yfinance as yf"
   ]
  },
  {
   "cell_type": "code",
   "execution_count": 2,
   "metadata": {},
   "outputs": [
    {
     "name": "stdout",
     "output_type": "stream",
     "text": [
      "[*********************100%***********************]  1 of 1 completed\n"
     ]
    },
    {
     "data": {
      "text/html": [
       "<div>\n",
       "<style scoped>\n",
       "    .dataframe tbody tr th:only-of-type {\n",
       "        vertical-align: middle;\n",
       "    }\n",
       "\n",
       "    .dataframe tbody tr th {\n",
       "        vertical-align: top;\n",
       "    }\n",
       "\n",
       "    .dataframe thead th {\n",
       "        text-align: right;\n",
       "    }\n",
       "</style>\n",
       "<table border=\"1\" class=\"dataframe\">\n",
       "  <thead>\n",
       "    <tr style=\"text-align: right;\">\n",
       "      <th></th>\n",
       "      <th>Open</th>\n",
       "      <th>High</th>\n",
       "      <th>Low</th>\n",
       "      <th>Close</th>\n",
       "      <th>Adj Close</th>\n",
       "      <th>Volume</th>\n",
       "    </tr>\n",
       "    <tr>\n",
       "      <th>Date</th>\n",
       "      <th></th>\n",
       "      <th></th>\n",
       "      <th></th>\n",
       "      <th></th>\n",
       "      <th></th>\n",
       "      <th></th>\n",
       "    </tr>\n",
       "  </thead>\n",
       "  <tbody>\n",
       "    <tr>\n",
       "      <th>2010-01-04</th>\n",
       "      <td>7.622500</td>\n",
       "      <td>7.660714</td>\n",
       "      <td>7.585000</td>\n",
       "      <td>7.643214</td>\n",
       "      <td>6.496295</td>\n",
       "      <td>493729600</td>\n",
       "    </tr>\n",
       "    <tr>\n",
       "      <th>2010-01-05</th>\n",
       "      <td>7.664286</td>\n",
       "      <td>7.699643</td>\n",
       "      <td>7.616071</td>\n",
       "      <td>7.656429</td>\n",
       "      <td>6.507526</td>\n",
       "      <td>601904800</td>\n",
       "    </tr>\n",
       "    <tr>\n",
       "      <th>2010-01-06</th>\n",
       "      <td>7.656429</td>\n",
       "      <td>7.686786</td>\n",
       "      <td>7.526786</td>\n",
       "      <td>7.534643</td>\n",
       "      <td>6.404016</td>\n",
       "      <td>552160000</td>\n",
       "    </tr>\n",
       "    <tr>\n",
       "      <th>2010-01-07</th>\n",
       "      <td>7.562500</td>\n",
       "      <td>7.571429</td>\n",
       "      <td>7.466071</td>\n",
       "      <td>7.520714</td>\n",
       "      <td>6.392176</td>\n",
       "      <td>477131200</td>\n",
       "    </tr>\n",
       "    <tr>\n",
       "      <th>2010-01-08</th>\n",
       "      <td>7.510714</td>\n",
       "      <td>7.571429</td>\n",
       "      <td>7.466429</td>\n",
       "      <td>7.570714</td>\n",
       "      <td>6.434672</td>\n",
       "      <td>447610800</td>\n",
       "    </tr>\n",
       "  </tbody>\n",
       "</table>\n",
       "</div>"
      ],
      "text/plain": [
       "                Open      High       Low     Close  Adj Close     Volume\n",
       "Date                                                                    \n",
       "2010-01-04  7.622500  7.660714  7.585000  7.643214   6.496295  493729600\n",
       "2010-01-05  7.664286  7.699643  7.616071  7.656429   6.507526  601904800\n",
       "2010-01-06  7.656429  7.686786  7.526786  7.534643   6.404016  552160000\n",
       "2010-01-07  7.562500  7.571429  7.466071  7.520714   6.392176  477131200\n",
       "2010-01-08  7.510714  7.571429  7.466429  7.570714   6.434672  447610800"
      ]
     },
     "execution_count": 2,
     "metadata": {},
     "output_type": "execute_result"
    }
   ],
   "source": [
    "\n",
    "yf.pdr_override()\n",
    "df = pdr.get_data_yahoo('AAPL', start = \"2010-01-01\", end = \"2022-01-01\")\n",
    "\n",
    "df.head()"
   ]
  },
  {
   "cell_type": "code",
   "execution_count": 3,
   "metadata": {},
   "outputs": [],
   "source": [
    "df = df.reset_index()"
   ]
  },
  {
   "cell_type": "code",
   "execution_count": 4,
   "metadata": {},
   "outputs": [
    {
     "data": {
      "text/html": [
       "<div>\n",
       "<style scoped>\n",
       "    .dataframe tbody tr th:only-of-type {\n",
       "        vertical-align: middle;\n",
       "    }\n",
       "\n",
       "    .dataframe tbody tr th {\n",
       "        vertical-align: top;\n",
       "    }\n",
       "\n",
       "    .dataframe thead th {\n",
       "        text-align: right;\n",
       "    }\n",
       "</style>\n",
       "<table border=\"1\" class=\"dataframe\">\n",
       "  <thead>\n",
       "    <tr style=\"text-align: right;\">\n",
       "      <th></th>\n",
       "      <th>Date</th>\n",
       "      <th>Open</th>\n",
       "      <th>High</th>\n",
       "      <th>Low</th>\n",
       "      <th>Close</th>\n",
       "      <th>Adj Close</th>\n",
       "      <th>Volume</th>\n",
       "    </tr>\n",
       "  </thead>\n",
       "  <tbody>\n",
       "    <tr>\n",
       "      <th>0</th>\n",
       "      <td>2010-01-04</td>\n",
       "      <td>7.622500</td>\n",
       "      <td>7.660714</td>\n",
       "      <td>7.585000</td>\n",
       "      <td>7.643214</td>\n",
       "      <td>6.496295</td>\n",
       "      <td>493729600</td>\n",
       "    </tr>\n",
       "    <tr>\n",
       "      <th>1</th>\n",
       "      <td>2010-01-05</td>\n",
       "      <td>7.664286</td>\n",
       "      <td>7.699643</td>\n",
       "      <td>7.616071</td>\n",
       "      <td>7.656429</td>\n",
       "      <td>6.507526</td>\n",
       "      <td>601904800</td>\n",
       "    </tr>\n",
       "    <tr>\n",
       "      <th>2</th>\n",
       "      <td>2010-01-06</td>\n",
       "      <td>7.656429</td>\n",
       "      <td>7.686786</td>\n",
       "      <td>7.526786</td>\n",
       "      <td>7.534643</td>\n",
       "      <td>6.404016</td>\n",
       "      <td>552160000</td>\n",
       "    </tr>\n",
       "    <tr>\n",
       "      <th>3</th>\n",
       "      <td>2010-01-07</td>\n",
       "      <td>7.562500</td>\n",
       "      <td>7.571429</td>\n",
       "      <td>7.466071</td>\n",
       "      <td>7.520714</td>\n",
       "      <td>6.392176</td>\n",
       "      <td>477131200</td>\n",
       "    </tr>\n",
       "    <tr>\n",
       "      <th>4</th>\n",
       "      <td>2010-01-08</td>\n",
       "      <td>7.510714</td>\n",
       "      <td>7.571429</td>\n",
       "      <td>7.466429</td>\n",
       "      <td>7.570714</td>\n",
       "      <td>6.434672</td>\n",
       "      <td>447610800</td>\n",
       "    </tr>\n",
       "  </tbody>\n",
       "</table>\n",
       "</div>"
      ],
      "text/plain": [
       "        Date      Open      High       Low     Close  Adj Close     Volume\n",
       "0 2010-01-04  7.622500  7.660714  7.585000  7.643214   6.496295  493729600\n",
       "1 2010-01-05  7.664286  7.699643  7.616071  7.656429   6.507526  601904800\n",
       "2 2010-01-06  7.656429  7.686786  7.526786  7.534643   6.404016  552160000\n",
       "3 2010-01-07  7.562500  7.571429  7.466071  7.520714   6.392176  477131200\n",
       "4 2010-01-08  7.510714  7.571429  7.466429  7.570714   6.434672  447610800"
      ]
     },
     "execution_count": 4,
     "metadata": {},
     "output_type": "execute_result"
    }
   ],
   "source": [
    "df.head()"
   ]
  },
  {
   "cell_type": "code",
   "execution_count": 5,
   "metadata": {},
   "outputs": [],
   "source": [
    "df = df.drop(['Adj Close', 'Date'], axis=1)"
   ]
  },
  {
   "cell_type": "code",
   "execution_count": 6,
   "metadata": {},
   "outputs": [
    {
     "data": {
      "text/plain": [
       "[<matplotlib.lines.Line2D at 0x1fedcfa5180>]"
      ]
     },
     "execution_count": 6,
     "metadata": {},
     "output_type": "execute_result"
    },
    {
     "data": {
      "image/png": "[encoded data removed]",
      "text/plain": [
       "<Figure size 640x480 with 1 Axes>"
      ]
     },
     "metadata": {},
     "output_type": "display_data"
    }
   ],
   "source": [
    "plt.plot(df.Close)"
   ]
  },
  {
   "cell_type": "code",
   "execution_count": 7,
   "metadata": {},
   "outputs": [],
   "source": [
    "weekma = df.Close.rolling(100).mean()"
   ]
  },
  {
   "cell_type": "code",
   "execution_count": 8,
   "metadata": {},
   "outputs": [
    {
     "data": {
      "text/plain": [
       "[<matplotlib.lines.Line2D at 0x1fedd27ace0>]"
      ]
     },
     "execution_count": 8,
     "metadata": {},
     "output_type": "execute_result"
    },
    {
     "data": {
      "image/png": "[encoded data removed]",
      "text/plain": [
       "<Figure size 640x480 with 1 Axes>"
      ]
     },
     "metadata": {},
     "output_type": "display_data"
    }
   ],
   "source": [
    "plt.plot(weekma)"
   ]
  },
  {
   "cell_type": "code",
   "execution_count": 9,
   "metadata": {},
   "outputs": [
    {
     "data": {
      "text/plain": [
       "(3021, 5)"
      ]
     },
     "execution_count": 9,
     "metadata": {},
     "output_type": "execute_result"
    }
   ],
   "source": [
    "df.shape"
   ]
  },
  {
   "cell_type": "code",
   "execution_count": 10,
   "metadata": {},
   "outputs": [
    {
     "name": "stdout",
     "output_type": "stream",
     "text": [
      "(2114, 1)\n",
      "(907, 1)\n"
     ]
    }
   ],
   "source": [
    "#Splitting into Training and Testing\n",
    "\n",
    "data_training = pd.DataFrame(df['Close'][0:int(len(df)*0.70)])\n",
    "data_testing =  pd.DataFrame(df['Close'][int(len(df)*0.70):int(len(df))])\n",
    "\n",
    "print(data_training.shape)\n",
    "print(data_testing.shape)"
   ]
  },
  {
   "cell_type": "code",
   "execution_count": 11,
   "metadata": {},
   "outputs": [
    {
     "data": {
      "text/html": [
       "<div>\n",
       "<style scoped>\n",
       "    .dataframe tbody tr th:only-of-type {\n",
       "        vertical-align: middle;\n",
       "    }\n",
       "\n",
       "    .dataframe tbody tr th {\n",
       "        vertical-align: top;\n",
       "    }\n",
       "\n",
       "    .dataframe thead th {\n",
       "        text-align: right;\n",
       "    }\n",
       "</style>\n",
       "<table border=\"1\" class=\"dataframe\">\n",
       "  <thead>\n",
       "    <tr style=\"text-align: right;\">\n",
       "      <th></th>\n",
       "      <th>Close</th>\n",
       "    </tr>\n",
       "  </thead>\n",
       "  <tbody>\n",
       "    <tr>\n",
       "      <th>0</th>\n",
       "      <td>7.643214</td>\n",
       "    </tr>\n",
       "    <tr>\n",
       "      <th>1</th>\n",
       "      <td>7.656429</td>\n",
       "    </tr>\n",
       "    <tr>\n",
       "      <th>2</th>\n",
       "      <td>7.534643</td>\n",
       "    </tr>\n",
       "    <tr>\n",
       "      <th>3</th>\n",
       "      <td>7.520714</td>\n",
       "    </tr>\n",
       "    <tr>\n",
       "      <th>4</th>\n",
       "      <td>7.570714</td>\n",
       "    </tr>\n",
       "  </tbody>\n",
       "</table>\n",
       "</div>"
      ],
      "text/plain": [
       "      Close\n",
       "0  7.643214\n",
       "1  7.656429\n",
       "2  7.534643\n",
       "3  7.520714\n",
       "4  7.570714"
      ]
     },
     "execution_count": 11,
     "metadata": {},
     "output_type": "execute_result"
    }
   ],
   "source": [
    "data_training.head()"
   ]
  },
  {
   "cell_type": "code",
   "execution_count": 12,
   "metadata": {},
   "outputs": [
    {
     "data": {
      "text/html": [
       "<div>\n",
       "<style scoped>\n",
       "    .dataframe tbody tr th:only-of-type {\n",
       "        vertical-align: middle;\n",
       "    }\n",
       "\n",
       "    .dataframe tbody tr th {\n",
       "        vertical-align: top;\n",
       "    }\n",
       "\n",
       "    .dataframe thead th {\n",
       "        text-align: right;\n",
       "    }\n",
       "</style>\n",
       "<table border=\"1\" class=\"dataframe\">\n",
       "  <thead>\n",
       "    <tr style=\"text-align: right;\">\n",
       "      <th></th>\n",
       "      <th>Close</th>\n",
       "    </tr>\n",
       "  </thead>\n",
       "  <tbody>\n",
       "    <tr>\n",
       "      <th>3016</th>\n",
       "      <td>180.330002</td>\n",
       "    </tr>\n",
       "    <tr>\n",
       "      <th>3017</th>\n",
       "      <td>179.289993</td>\n",
       "    </tr>\n",
       "    <tr>\n",
       "      <th>3018</th>\n",
       "      <td>179.380005</td>\n",
       "    </tr>\n",
       "    <tr>\n",
       "      <th>3019</th>\n",
       "      <td>178.199997</td>\n",
       "    </tr>\n",
       "    <tr>\n",
       "      <th>3020</th>\n",
       "      <td>177.570007</td>\n",
       "    </tr>\n",
       "  </tbody>\n",
       "</table>\n",
       "</div>"
      ],
      "text/plain": [
       "           Close\n",
       "3016  180.330002\n",
       "3017  179.289993\n",
       "3018  179.380005\n",
       "3019  178.199997\n",
       "3020  177.570007"
      ]
     },
     "execution_count": 12,
     "metadata": {},
     "output_type": "execute_result"
    }
   ],
   "source": [
    "data_testing.tail()"
   ]
  },
  {
   "cell_type": "code",
   "execution_count": 13,
   "metadata": {},
   "outputs": [
    {
     "data": {
      "text/plain": [
       "array([[0.0192931 ],\n",
       "       [0.01961817],\n",
       "       [0.01662229],\n",
       "       ...,\n",
       "       [0.98966821],\n",
       "       [0.98837669],\n",
       "       [0.9910212 ]])"
      ]
     },
     "execution_count": 13,
     "metadata": {},
     "output_type": "execute_result"
    }
   ],
   "source": [
    "from sklearn.preprocessing import MinMaxScaler\n",
    "\n",
    "scaler = MinMaxScaler()\n",
    "data_training_array = scaler.fit_transform(data_training)\n",
    "data_training_array"
   ]
  },
  {
   "cell_type": "code",
   "execution_count": 14,
   "metadata": {},
   "outputs": [],
   "source": [
    "x_train = []\n",
    "y_train = []\n",
    "\n",
    "for i in range(100, data_training_array.shape[0]):\n",
    "    x_train.append(data_training_array[i-100: i])\n",
    "    y_train.append(data_training_array[i,0])"
   ]
  },
  {
   "cell_type": "code",
   "execution_count": 15,
   "metadata": {},
   "outputs": [],
   "source": [
    "x_train, y_train = np.array(x_train), np.array(y_train)"
   ]
  },
  {
   "cell_type": "code",
   "execution_count": 16,
   "metadata": {},
   "outputs": [
    {
     "data": {
      "text/plain": [
       "(2014, 100, 1)"
      ]
     },
     "execution_count": 16,
     "metadata": {},
     "output_type": "execute_result"
    }
   ],
   "source": [
    "x_train.shape"
   ]
  },
  {
   "cell_type": "code",
   "execution_count": 17,
   "metadata": {},
   "outputs": [
    {
     "data": {
      "text/plain": [
       "(2014,)"
      ]
     },
     "execution_count": 17,
     "metadata": {},
     "output_type": "execute_result"
    }
   ],
   "source": [
    "y_train.shape"
   ]
  },
  {
   "cell_type": "code",
   "execution_count": 18,
   "metadata": {},
   "outputs": [],
   "source": [
    "from keras.layers import Dense, Dropout, LSTM\n",
    "from keras.models import Sequential"
   ]
  },
  {
   "cell_type": "code",
   "execution_count": 19,
   "metadata": {},
   "outputs": [],
   "source": [
    "model = Sequential()\n",
    "model.add(LSTM(units = 50, activation = 'relu', return_sequences = True, input_shape = (x_train.shape[1], 1))) \n",
    "model.add(Dropout(0.2))\n",
    "\n",
    "model.add(LSTM(units = 60, activation = 'relu', return_sequences = True)) \n",
    "model.add(Dropout(0.3))\n",
    "\n",
    "model.add(LSTM(units = 80, activation = 'relu', return_sequences = True)) \n",
    "model.add(Dropout(0.4))\n",
    "\n",
    "model.add(LSTM(units = 120, activation = 'relu')) \n",
    "model.add(Dropout(0.5))\n",
    "\n",
    "model.add(Dense(units = 1))"
   ]
  },
  {
   "cell_type": "code",
   "execution_count": 20,
   "metadata": {},
   "outputs": [
    {
     "name": "stdout",
     "output_type": "stream",
     "text": [
      "Model: \"sequential\"\n",
      "_________________________________________________________________\n",
      " Layer (type)                Output Shape              Param #   \n",
      "=================================================================\n",
      " lstm (LSTM)                 (None, 100, 50)           10400     \n",
      "                                                                 \n",
      " dropout (Dropout)           (None, 100, 50)           0         \n",
      "                                                                 \n",
      " lstm_1 (LSTM)               (None, 100, 60)           26640     \n",
      "                                                                 \n",
      " dropout_1 (Dropout)         (None, 100, 60)           0         \n",
      "                                                                 \n",
      " lstm_2 (LSTM)               (None, 100, 80)           45120     \n",
      "                                                                 \n",
      " dropout_2 (Dropout)         (None, 100, 80)           0         \n",
      "                                                                 \n",
      " lstm_3 (LSTM)               (None, 120)               96480     \n",
      "                                                                 \n",
      " dropout_3 (Dropout)         (None, 120)               0         \n",
      "                                                                 \n",
      " dense (Dense)               (None, 1)                 121       \n",
      "                                                                 \n",
      "=================================================================\n",
      "Total params: 178,761\n",
      "Trainable params: 178,761\n",
      "Non-trainable params: 0\n",
      "_________________________________________________________________\n"
     ]
    }
   ],
   "source": [
    "model.summary()"
   ]
  },
  {
   "cell_type": "code",
   "execution_count": 21,
   "metadata": {},
   "outputs": [],
   "source": [
    "model.compile(optimizer='adam', loss='mean_squared_error')"
   ]
  },
  {
   "cell_type": "code",
   "execution_count": 22,
   "metadata": {},
   "outputs": [
    {
     "name": "stdout",
     "output_type": "stream",
     "text": [
      "Epoch 1/100\n",
      "63/63 [==============================] - 15s 171ms/step - loss: 0.0410\n",
      "Epoch 2/100\n",
      "63/63 [==============================] - 15s 230ms/step - loss: 0.0087\n",
      "Epoch 3/100\n",
      "63/63 [==============================] - 13s 203ms/step - loss: 0.0068\n",
      "Epoch 4/100\n",
      "63/63 [==============================] - 12s 193ms/step - loss: 0.0068\n",
      "Epoch 5/100\n",
      "63/63 [==============================] - 12s 191ms/step - loss: 0.0065\n",
      "Epoch 6/100\n",
      "63/63 [==============================] - 13s 199ms/step - loss: 0.0060\n",
      "Epoch 7/100\n",
      "63/63 [==============================] - 12s 198ms/step - loss: 0.0056\n",
      "Epoch 8/100\n",
      "63/63 [==============================] - 12s 196ms/step - loss: 0.0057\n",
      "Epoch 9/100\n",
      "63/63 [==============================] - 12s 196ms/step - loss: 0.0058\n",
      "Epoch 10/100\n",
      "63/63 [==============================] - 12s 197ms/step - loss: 0.0046\n",
      "Epoch 11/100\n",
      "63/63 [==============================] - 13s 203ms/step - loss: 0.0049\n",
      "Epoch 12/100\n",
      "63/63 [==============================] - 14s 219ms/step - loss: 0.0045\n",
      "Epoch 13/100\n",
      "63/63 [==============================] - 14s 224ms/step - loss: 0.0044\n",
      "Epoch 14/100\n",
      "63/63 [==============================] - 14s 215ms/step - loss: 0.0038\n",
      "Epoch 15/100\n",
      "63/63 [==============================] - 14s 226ms/step - loss: 0.0045\n",
      "Epoch 16/100\n",
      "63/63 [==============================] - 18s 280ms/step - loss: 0.0044\n",
      "Epoch 17/100\n",
      "63/63 [==============================] - 20s 312ms/step - loss: 0.0041\n",
      "Epoch 18/100\n",
      "63/63 [==============================] - 17s 275ms/step - loss: 0.0039\n",
      "Epoch 19/100\n",
      "63/63 [==============================] - 18s 286ms/step - loss: 0.0039\n",
      "Epoch 20/100\n",
      "63/63 [==============================] - 18s 286ms/step - loss: 0.0041\n",
      "Epoch 21/100\n",
      "63/63 [==============================] - 15s 244ms/step - loss: 0.0044\n",
      "Epoch 22/100\n",
      "63/63 [==============================] - 13s 210ms/step - loss: 0.0039\n",
      "Epoch 23/100\n",
      "63/63 [==============================] - 14s 230ms/step - loss: 0.0041\n",
      "Epoch 24/100\n",
      "63/63 [==============================] - 15s 246ms/step - loss: 0.0037\n",
      "Epoch 25/100\n",
      "63/63 [==============================] - 17s 272ms/step - loss: 0.0038\n",
      "Epoch 26/100\n",
      "63/63 [==============================] - 16s 246ms/step - loss: 0.0035\n",
      "Epoch 27/100\n",
      "63/63 [==============================] - 16s 246ms/step - loss: 0.0035\n",
      "Epoch 28/100\n",
      "63/63 [==============================] - 14s 224ms/step - loss: 0.0041\n",
      "Epoch 29/100\n",
      "63/63 [==============================] - 14s 227ms/step - loss: 32.9224\n",
      "Epoch 30/100\n",
      "63/63 [==============================] - 14s 217ms/step - loss: 0.0153\n",
      "Epoch 31/100\n",
      "63/63 [==============================] - 14s 222ms/step - loss: 0.0043\n",
      "Epoch 32/100\n",
      "63/63 [==============================] - 24s 383ms/step - loss: 0.0037\n",
      "Epoch 33/100\n",
      "63/63 [==============================] - 25s 405ms/step - loss: 0.0036\n",
      "Epoch 34/100\n",
      "63/63 [==============================] - 26s 408ms/step - loss: 0.0040\n",
      "Epoch 35/100\n",
      "63/63 [==============================] - 26s 420ms/step - loss: 0.0039\n",
      "Epoch 36/100\n",
      "63/63 [==============================] - 28s 441ms/step - loss: 0.0036\n",
      "Epoch 37/100\n",
      "63/63 [==============================] - 23s 359ms/step - loss: 0.0036\n",
      "Epoch 38/100\n",
      "63/63 [==============================] - 16s 258ms/step - loss: 0.0033\n",
      "Epoch 39/100\n",
      "63/63 [==============================] - 26s 419ms/step - loss: 0.0034\n",
      "Epoch 40/100\n",
      "63/63 [==============================] - 19s 295ms/step - loss: 0.0035\n",
      "Epoch 41/100\n",
      "63/63 [==============================] - 20s 322ms/step - loss: 0.0033\n",
      "Epoch 42/100\n",
      "63/63 [==============================] - 31s 495ms/step - loss: 0.0032\n",
      "Epoch 43/100\n",
      "63/63 [==============================] - 28s 437ms/step - loss: 0.0031\n",
      "Epoch 44/100\n",
      "63/63 [==============================] - 29s 456ms/step - loss: 0.0031\n",
      "Epoch 45/100\n",
      "63/63 [==============================] - 20s 321ms/step - loss: 0.0033\n",
      "Epoch 46/100\n",
      "63/63 [==============================] - 29s 459ms/step - loss: 0.0033\n",
      "Epoch 47/100\n",
      "63/63 [==============================] - 25s 403ms/step - loss: 0.0029\n",
      "Epoch 48/100\n",
      "63/63 [==============================] - 31s 487ms/step - loss: 0.0031\n",
      "Epoch 49/100\n",
      "63/63 [==============================] - 15s 241ms/step - loss: 0.0034\n",
      "Epoch 50/100\n",
      "63/63 [==============================] - 16s 258ms/step - loss: 0.0027\n",
      "Epoch 51/100\n",
      "63/63 [==============================] - 15s 243ms/step - loss: 0.0032\n",
      "Epoch 52/100\n",
      "63/63 [==============================] - 15s 232ms/step - loss: 0.0028\n",
      "Epoch 53/100\n",
      "63/63 [==============================] - 17s 275ms/step - loss: 0.0028\n",
      "Epoch 54/100\n",
      "63/63 [==============================] - 18s 288ms/step - loss: 0.0029\n",
      "Epoch 55/100\n",
      "63/63 [==============================] - 16s 252ms/step - loss: 0.0030\n",
      "Epoch 56/100\n",
      "63/63 [==============================] - 26s 422ms/step - loss: 0.0028\n",
      "Epoch 57/100\n",
      "63/63 [==============================] - 28s 449ms/step - loss: 0.0028\n",
      "Epoch 58/100\n",
      "63/63 [==============================] - 29s 466ms/step - loss: 0.0026\n",
      "Epoch 59/100\n",
      "63/63 [==============================] - 31s 484ms/step - loss: 0.0029\n",
      "Epoch 60/100\n",
      "63/63 [==============================] - 34s 549ms/step - loss: 0.0027\n",
      "Epoch 61/100\n",
      "63/63 [==============================] - 35s 561ms/step - loss: 0.0027\n",
      "Epoch 62/100\n",
      "63/63 [==============================] - 27s 435ms/step - loss: 0.0028\n",
      "Epoch 63/100\n",
      "63/63 [==============================] - 21s 329ms/step - loss: 0.0030\n",
      "Epoch 64/100\n",
      "63/63 [==============================] - 17s 277ms/step - loss: 0.0030\n",
      "Epoch 65/100\n",
      "63/63 [==============================] - 17s 271ms/step - loss: 0.0026\n",
      "Epoch 66/100\n",
      "63/63 [==============================] - 41s 661ms/step - loss: 0.0024\n",
      "Epoch 67/100\n",
      "63/63 [==============================] - 78s 1s/step - loss: 0.0026\n",
      "Epoch 68/100\n",
      "63/63 [==============================] - 41s 631ms/step - loss: 0.0027\n",
      "Epoch 69/100\n",
      "63/63 [==============================] - 54s 862ms/step - loss: 0.0025\n",
      "Epoch 70/100\n",
      "63/63 [==============================] - 46s 720ms/step - loss: 0.0030\n",
      "Epoch 71/100\n",
      "63/63 [==============================] - 46s 737ms/step - loss: 0.0030\n",
      "Epoch 72/100\n",
      "63/63 [==============================] - 40s 637ms/step - loss: 0.0025\n",
      "Epoch 73/100\n",
      "63/63 [==============================] - 47s 744ms/step - loss: 0.0024\n",
      "Epoch 74/100\n",
      "63/63 [==============================] - 27s 430ms/step - loss: 0.0025\n",
      "Epoch 75/100\n",
      "63/63 [==============================] - 23s 364ms/step - loss: 0.0029\n",
      "Epoch 76/100\n",
      "63/63 [==============================] - 22s 349ms/step - loss: 0.0023\n",
      "Epoch 77/100\n",
      "63/63 [==============================] - 23s 358ms/step - loss: 0.0027\n",
      "Epoch 78/100\n",
      "63/63 [==============================] - 23s 371ms/step - loss: 0.0023\n",
      "Epoch 79/100\n",
      "63/63 [==============================] - 35s 567ms/step - loss: 0.0026\n",
      "Epoch 80/100\n",
      "63/63 [==============================] - 41s 647ms/step - loss: 0.0026\n",
      "Epoch 81/100\n",
      "63/63 [==============================] - 35s 556ms/step - loss: 0.0025\n",
      "Epoch 82/100\n",
      "63/63 [==============================] - 16s 256ms/step - loss: 0.0024\n",
      "Epoch 83/100\n",
      "63/63 [==============================] - 21s 336ms/step - loss: 0.0025\n",
      "Epoch 84/100\n",
      "63/63 [==============================] - 22s 358ms/step - loss: 0.0025\n",
      "Epoch 85/100\n",
      "63/63 [==============================] - 40s 633ms/step - loss: 0.0024\n",
      "Epoch 86/100\n",
      "63/63 [==============================] - 41s 638ms/step - loss: 0.0023\n",
      "Epoch 87/100\n",
      "63/63 [==============================] - 34s 534ms/step - loss: 0.0024\n",
      "Epoch 88/100\n",
      "63/63 [==============================] - 22s 343ms/step - loss: 0.0023\n",
      "Epoch 89/100\n",
      "63/63 [==============================] - 26s 413ms/step - loss: 0.0024\n",
      "Epoch 90/100\n",
      "63/63 [==============================] - 25s 391ms/step - loss: 0.0022\n",
      "Epoch 91/100\n",
      "63/63 [==============================] - 24s 373ms/step - loss: 0.0021\n",
      "Epoch 92/100\n",
      "63/63 [==============================] - 22s 348ms/step - loss: 0.0023\n",
      "Epoch 93/100\n",
      "63/63 [==============================] - 19s 308ms/step - loss: 0.0023\n",
      "Epoch 94/100\n",
      "63/63 [==============================] - 16s 255ms/step - loss: 0.0027\n",
      "Epoch 95/100\n",
      "63/63 [==============================] - 14s 229ms/step - loss: 0.0022\n",
      "Epoch 96/100\n",
      "63/63 [==============================] - 13s 214ms/step - loss: 0.0021\n",
      "Epoch 97/100\n",
      "63/63 [==============================] - 17s 268ms/step - loss: 0.0021\n",
      "Epoch 98/100\n",
      "63/63 [==============================] - 23s 370ms/step - loss: 0.0023\n",
      "Epoch 99/100\n",
      "63/63 [==============================] - 23s 365ms/step - loss: 0.0020\n",
      "Epoch 100/100\n",
      "63/63 [==============================] - 24s 388ms/step - loss: 0.0022\n"
     ]
    },
    {
     "data": {
      "text/plain": [
       "<keras.callbacks.History at 0x1fef74e2bc0>"
      ]
     },
     "execution_count": 22,
     "metadata": {},
     "output_type": "execute_result"
    }
   ],
   "source": [
    "model.fit(x_train, y_train, epochs = 100)"
   ]
  },
  {
   "cell_type": "code",
   "execution_count": 23,
   "metadata": {},
   "outputs": [],
   "source": [
    "# serialize model to JSON\n",
    "model_json = model.to_json()\n",
    "with open(\"stock_model.json\", \"w\") as json_file:\n",
    "    json_file.write(model_json)\n",
    "    \n",
    "# serialize weights to HDF5\n",
    "model.save_weights(\"weights.h5\")"
   ]
  },
  {
   "cell_type": "code",
   "execution_count": 24,
   "metadata": {},
   "outputs": [],
   "source": [
    "model.save('stock_model.h5')"
   ]
  },
  {
   "cell_type": "code",
   "execution_count": 25,
   "metadata": {},
   "outputs": [
    {
     "data": {
      "text/html": [
       "<div>\n",
       "<style scoped>\n",
       "    .dataframe tbody tr th:only-of-type {\n",
       "        vertical-align: middle;\n",
       "    }\n",
       "\n",
       "    .dataframe tbody tr th {\n",
       "        vertical-align: top;\n",
       "    }\n",
       "\n",
       "    .dataframe thead th {\n",
       "        text-align: right;\n",
       "    }\n",
       "</style>\n",
       "<table border=\"1\" class=\"dataframe\">\n",
       "  <thead>\n",
       "    <tr style=\"text-align: right;\">\n",
       "      <th></th>\n",
       "      <th>Close</th>\n",
       "    </tr>\n",
       "  </thead>\n",
       "  <tbody>\n",
       "    <tr>\n",
       "      <th>2114</th>\n",
       "      <td>46.974998</td>\n",
       "    </tr>\n",
       "    <tr>\n",
       "      <th>2115</th>\n",
       "      <td>46.875000</td>\n",
       "    </tr>\n",
       "    <tr>\n",
       "      <th>2116</th>\n",
       "      <td>46.717499</td>\n",
       "    </tr>\n",
       "    <tr>\n",
       "      <th>2117</th>\n",
       "      <td>47.560001</td>\n",
       "    </tr>\n",
       "    <tr>\n",
       "      <th>2118</th>\n",
       "      <td>47.957500</td>\n",
       "    </tr>\n",
       "  </tbody>\n",
       "</table>\n",
       "</div>"
      ],
      "text/plain": [
       "          Close\n",
       "2114  46.974998\n",
       "2115  46.875000\n",
       "2116  46.717499\n",
       "2117  47.560001\n",
       "2118  47.957500"
      ]
     },
     "execution_count": 25,
     "metadata": {},
     "output_type": "execute_result"
    }
   ],
   "source": [
    "data_testing.head()"
   ]
  },
  {
   "cell_type": "code",
   "execution_count": 26,
   "metadata": {},
   "outputs": [],
   "source": [
    "past_100_days = data_training.tail(100)"
   ]
  },
  {
   "cell_type": "code",
   "execution_count": 28,
   "metadata": {},
   "outputs": [
    {
     "data": {
      "text/html": [
       "<div>\n",
       "<style scoped>\n",
       "    .dataframe tbody tr th:only-of-type {\n",
       "        vertical-align: middle;\n",
       "    }\n",
       "\n",
       "    .dataframe tbody tr th {\n",
       "        vertical-align: top;\n",
       "    }\n",
       "\n",
       "    .dataframe thead th {\n",
       "        text-align: right;\n",
       "    }\n",
       "</style>\n",
       "<table border=\"1\" class=\"dataframe\">\n",
       "  <thead>\n",
       "    <tr style=\"text-align: right;\">\n",
       "      <th></th>\n",
       "      <th>Close</th>\n",
       "    </tr>\n",
       "  </thead>\n",
       "  <tbody>\n",
       "    <tr>\n",
       "      <th>0</th>\n",
       "      <td>43.057499</td>\n",
       "    </tr>\n",
       "    <tr>\n",
       "      <th>1</th>\n",
       "      <td>43.257500</td>\n",
       "    </tr>\n",
       "    <tr>\n",
       "      <th>2</th>\n",
       "      <td>43.750000</td>\n",
       "    </tr>\n",
       "    <tr>\n",
       "      <th>3</th>\n",
       "      <td>43.587502</td>\n",
       "    </tr>\n",
       "    <tr>\n",
       "      <th>4</th>\n",
       "      <td>43.582500</td>\n",
       "    </tr>\n",
       "  </tbody>\n",
       "</table>\n",
       "</div>"
      ],
      "text/plain": [
       "       Close\n",
       "0  43.057499\n",
       "1  43.257500\n",
       "2  43.750000\n",
       "3  43.587502\n",
       "4  43.582500"
      ]
     },
     "execution_count": 28,
     "metadata": {},
     "output_type": "execute_result"
    }
   ],
   "source": [
    "final_df = pd.concat([past_100_days, data_testing], ignore_index=True)\n",
    "final_df.head()"
   ]
  },
  {
   "cell_type": "code",
   "execution_count": 29,
   "metadata": {},
   "outputs": [
    {
     "data": {
      "text/plain": [
       "array([[0.8904703 ],\n",
       "       [0.89539024],\n",
       "       [0.90750555],\n",
       "       ...,\n",
       "       [4.24394928],\n",
       "       [4.21492156],\n",
       "       [4.19942407]])"
      ]
     },
     "execution_count": 29,
     "metadata": {},
     "output_type": "execute_result"
    }
   ],
   "source": [
    "inputs = scaler.transform(final_df)\n",
    "inputs"
   ]
  },
  {
   "cell_type": "code",
   "execution_count": 30,
   "metadata": {},
   "outputs": [
    {
     "data": {
      "text/plain": [
       "(1007, 1)"
      ]
     },
     "execution_count": 30,
     "metadata": {},
     "output_type": "execute_result"
    }
   ],
   "source": [
    "inputs.shape"
   ]
  },
  {
   "cell_type": "code",
   "execution_count": 31,
   "metadata": {},
   "outputs": [],
   "source": [
    "x_test = [] \n",
    "y_test = []\n",
    "\n",
    "for i in range(100, (inputs.shape[0])):\n",
    "    x_test.append(inputs[i-100: i])\n",
    "    y_test.append(inputs[i,0])"
   ]
  },
  {
   "cell_type": "code",
   "execution_count": 32,
   "metadata": {},
   "outputs": [
    {
     "name": "stdout",
     "output_type": "stream",
     "text": [
      "(907, 100, 1)\n",
      "(907,)\n"
     ]
    }
   ],
   "source": [
    "x_test, y_test = np.array(x_test), np.array(y_test)\n",
    "print(x_test.shape)\n",
    "print(y_test.shape)"
   ]
  },
  {
   "cell_type": "code",
   "execution_count": 33,
   "metadata": {},
   "outputs": [
    {
     "name": "stdout",
     "output_type": "stream",
     "text": [
      "29/29 [==============================] - 2s 54ms/step\n"
     ]
    }
   ],
   "source": [
    "y_predicted = (model.predict(x_test)) "
   ]
  },
  {
   "cell_type": "code",
   "execution_count": 34,
   "metadata": {},
   "outputs": [
    {
     "data": {
      "text/plain": [
       "(907, 1)"
      ]
     },
     "execution_count": 34,
     "metadata": {},
     "output_type": "execute_result"
    }
   ],
   "source": [
    "y_predicted.shape"
   ]
  },
  {
   "cell_type": "code",
   "execution_count": 35,
   "metadata": {},
   "outputs": [
    {
     "data": {
      "text/plain": [
       "array([0.0245996])"
      ]
     },
     "execution_count": 35,
     "metadata": {},
     "output_type": "execute_result"
    }
   ],
   "source": [
    "scaler.scale_"
   ]
  },
  {
   "cell_type": "code",
   "execution_count": 36,
   "metadata": {},
   "outputs": [
    {
     "data": {
      "text/plain": [
       "26.391073483305007"
      ]
     },
     "execution_count": 36,
     "metadata": {},
     "output_type": "execute_result"
    }
   ],
   "source": [
    "scale = 1/0.0378916\n",
    "scale "
   ]
  },
  {
   "cell_type": "code",
   "execution_count": 37,
   "metadata": {},
   "outputs": [],
   "source": [
    "y_predicted = scale * y_predicted\n",
    "y_test = scale * y_test"
   ]
  },
  {
   "cell_type": "code",
   "execution_count": 38,
   "metadata": {},
   "outputs": [
    {
     "data": {
      "text/plain": [
       "(907,)"
      ]
     },
     "execution_count": 38,
     "metadata": {},
     "output_type": "execute_result"
    }
   ],
   "source": [
    "y_test.shape"
   ]
  },
  {
   "cell_type": "code",
   "execution_count": 39,
   "metadata": {},
   "outputs": [
    {
     "data": {
      "text/plain": [
       "(907, 1)"
      ]
     },
     "execution_count": 39,
     "metadata": {},
     "output_type": "execute_result"
    }
   ],
   "source": [
    "y_predicted.shape"
   ]
  },
  {
   "cell_type": "code",
   "execution_count": null,
   "metadata": {},
   "outputs": [],
   "source": [
    "plt.figure(figsize = (12,6))\n",
    "plt.plot(y_test, 'r', label = 'Original Price')\n",
    "plt.plot(y_predicted, 'g', label = 'Predicted Price')\n",
    "plt.xlabel('Time')\n",
    "plt.ylabel('Price')\n",
    "plt.legend()\n",
    "plt.show()"
   ]
  }
 ],
 "metadata": {
  "kernelspec": {
   "display_name": "Python 3",
   "language": "python",
   "name": "python3"
  },
  "language_info": {
   "codemirror_mode": {
    "name": "ipython",
    "version": 3
   },
   "file_extension": ".py",
   "mimetype": "text/x-python",
   "name": "python",
   "nbconvert_exporter": "python",
   "pygments_lexer": "ipython3",
   "version": "3.10.11"
  },
  "vscode": {
   "interpreter": {
    "hash": "77e3073e874291b649ea1ae468f40e14661899c710b9f0367d464a06647e4f0e"
   }
  }
 },
 "nbformat": 4,
 "nbformat_minor": 4
}
